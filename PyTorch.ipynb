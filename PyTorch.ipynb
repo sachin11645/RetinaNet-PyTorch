{
 "cells": [
  {
   "cell_type": "code",
   "execution_count": null,
   "metadata": {},
   "outputs": [],
   "source": [
    "cd Retinanet"
   ]
  },
  {
   "cell_type": "code",
   "execution_count": null,
   "metadata": {},
   "outputs": [],
   "source": [
    "#git clone https://github.com/yhenon/pytorch-retinanet.git"
   ]
  },
  {
   "cell_type": "code",
   "execution_count": null,
   "metadata": {},
   "outputs": [],
   "source": [
    "pip install pandas\n",
    "pip install pycocotools\n",
    "pip install opencv-python\n",
    "pip install requests\n",
    "pip install scikit-image"
   ]
  },
  {
   "cell_type": "code",
   "execution_count": null,
   "metadata": {},
   "outputs": [],
   "source": [
    "#Training\n",
    "!python /home/datascience/Retinanet/pytorch-retinanet/train.py --dataset csv --csv_train /home/datascience/Retinanet/annotations.csv  \n",
    "--csv_classes /home/datascience/Retinanet/classes.csv --csv_val /home/datascience/Retinanet/annotations_val.csv"
   ]
  },
  {
   "cell_type": "code",
   "execution_count": null,
   "metadata": {},
   "outputs": [],
   "source": [
    "#Detection\n",
    "!python /home/datascience/Retinanet/pytorch-retinanet/visualize_single_image.py --image_dir /home/datascience/Retinanet/test \n",
    "--model_ home/datascience/Retinanet/model_final.pt --class_list /home/datascience/Retinanet/classes.csv\n",
    "\n",
    "!python /home/datascience/Retinanet/pytorch-retinanet/visualize.py --dataset csv  --csv_classes /home/datascience/Retinanet/classes.csv  \n",
    "--csv_val /home/datascience/Retinanet/annotations_val.csv --model /home/datascience/Retinanet/model_final.pt"
   ]
  }
 ],
 "metadata": {
  "kernelspec": {
   "display_name": "Python 3.9.12 ('base')",
   "language": "python",
   "name": "python3"
  },
  "language_info": {
   "name": "python",
   "version": "3.9.12"
  },
  "orig_nbformat": 4,
  "vscode": {
   "interpreter": {
    "hash": "ae86b0bece90c9344cbac9a4e027963974917bb766dfa3d68a5a47c230117f54"
   }
  }
 },
 "nbformat": 4,
 "nbformat_minor": 2
}
