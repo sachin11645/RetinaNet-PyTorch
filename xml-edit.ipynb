{
 "cells": [
  {
   "cell_type": "code",
   "execution_count": null,
   "metadata": {},
   "outputs": [],
   "source": [
    "import xml.etree.ElementTree as obj\n",
    "def updateXML(filename):\n",
    "    tree = obj.ElementTree(file = filename)\n",
    "    root = tree.getroot()\n",
    "    \n",
    "    for folder in root.iter(\"folder\"):\n",
    "        folder.text = \"Data\"\n",
    "    tree = obj.ElementTree(root)\n",
    "    \n",
    "    for path in root.iter(\"path\"):\n",
    "        path.text = \"/home/sachin/datascience/RetinanetTutorial/PlumsVOC/JPEGImages/76.jpg\"\n",
    "    \n",
    "    for truncated in root.iter(\"truncated\"):\n",
    "        truncated.text = \"0\"\n",
    "    for difficult in root.iter(\"difficult\"):\n",
    "        difficult.text = \"0\"\n",
    "        \n",
    "    with open(filename, \"wb\") as fileupdate:\n",
    "              tree.write(fileupdate)\n",
    "    \n",
    "    \n",
    "if __name__ == '__main__':\n",
    "              updateXML(\"76.xml\")"
   ]
  }
 ],
 "metadata": {
  "language_info": {
   "name": "python"
  },
  "orig_nbformat": 4
 },
 "nbformat": 4,
 "nbformat_minor": 2
}
